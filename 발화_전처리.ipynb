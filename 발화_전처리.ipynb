{
  "nbformat": 4,
  "nbformat_minor": 0,
  "metadata": {
    "colab": {
      "name": "발화 전처리.ipynb",
      "provenance": [],
      "collapsed_sections": [],
      "authorship_tag": "ABX9TyPH8VnYFFuzuTJsh/UqWR62",
      "include_colab_link": true
    },
    "kernelspec": {
      "name": "python3",
      "display_name": "Python 3"
    },
    "language_info": {
      "name": "python"
    }
  },
  "cells": [
    {
      "cell_type": "markdown",
      "metadata": {
        "id": "view-in-github",
        "colab_type": "text"
      },
      "source": [
        "<a href=\"https://colab.research.google.com/github/wjm1015/SamsungCard/blob/main/%EB%B0%9C%ED%99%94_%EC%A0%84%EC%B2%98%EB%A6%AC.ipynb\" target=\"_parent\"><img src=\"https://colab.research.google.com/assets/colab-badge.svg\" alt=\"Open In Colab\"/></a>"
      ]
    },
    {
      "cell_type": "code",
      "metadata": {
        "id": "7SFcl1Vb9cD5"
      },
      "source": [
        "!apt-get update \n",
        "!apt-get install g++ openjdk-8-jdk python-dev python3-dev \n",
        "!pip3 install JPype1-py3 \n",
        "!pip3 install konlpy \n",
        "!JAVA_HOME=\"C:\\Program Files\\Java\\jdk-16.0.1\"\n",
        "!pip install git+https://github.com/haven-jeon/PyKoSpacing.git\n",
        "!pip install git+https://github.com/ssut/py-hanspell.git"
      ],
      "execution_count": null,
      "outputs": []
    },
    {
      "cell_type": "code",
      "metadata": {
        "colab": {
          "base_uri": "https://localhost:8080/"
        },
        "id": "Zm2db4z6-Pnq",
        "outputId": "5ef08a0e-c74a-40ac-ab55-2f2a63cc3083"
      },
      "source": [
        "from google.colab import drive\n",
        "\n",
        "drive.mount('/content/drive')"
      ],
      "execution_count": 2,
      "outputs": [
        {
          "output_type": "stream",
          "text": [
            "Mounted at /content/drive\n"
          ],
          "name": "stdout"
        }
      ]
    },
    {
      "cell_type": "code",
      "metadata": {
        "id": "KJv-4s9sgH_u"
      },
      "source": [
        "import pandas as pd\n",
        "import numpy as np\n",
        "import re\n",
        "from pykospacing import Spacing  \n",
        "from hanspell import spell_checker\n",
        "from konlpy.tag import Okt"
      ],
      "execution_count": 3,
      "outputs": []
    },
    {
      "cell_type": "code",
      "metadata": {
        "id": "-6yscN4r_82M"
      },
      "source": [
        "df = pd.read_excel('/content/drive/My Drive/Colab Notebooks/공모전_제공_데이터(1차).xlsx', sheet_name='학습데이터')\n",
        "rank = pd.read_excel('/content/drive/My Drive/Colab Notebooks/공모전_제공_데이터(1차).xlsx', sheet_name='우선순위')"
      ],
      "execution_count": 4,
      "outputs": []
    },
    {
      "cell_type": "code",
      "metadata": {
        "colab": {
          "base_uri": "https://localhost:8080/"
        },
        "id": "sw1aiu5id8Jn",
        "outputId": "eef7c05c-a212-4e9d-bb69-55085ec24452"
      },
      "source": [
        "df.info()"
      ],
      "execution_count": 5,
      "outputs": [
        {
          "output_type": "stream",
          "text": [
            "<class 'pandas.core.frame.DataFrame'>\n",
            "RangeIndex: 1000 entries, 0 to 999\n",
            "Data columns (total 10 columns):\n",
            " #   Column                Non-Null Count  Dtype  \n",
            "---  ------                --------------  -----  \n",
            " 0   NO                    1000 non-null   int64  \n",
            " 1   NO2                   1000 non-null   int64  \n",
            " 2   발화                    1000 non-null   object \n",
            " 3   발화1                   1000 non-null   object \n",
            " 4   발화1의 우선순위             1000 non-null   int64  \n",
            " 5   발화2                   32 non-null     object \n",
            " 6   발화2의 우선순위             32 non-null     float64\n",
            " 7   발화3                   3 non-null      object \n",
            " 8   발화3의 우선순위             3 non-null      float64\n",
            " 9   최종분류(우선순위 가장 높은것 선택)  1000 non-null   object \n",
            "dtypes: float64(2), int64(3), object(5)\n",
            "memory usage: 78.2+ KB\n"
          ],
          "name": "stdout"
        }
      ]
    },
    {
      "cell_type": "code",
      "metadata": {
        "colab": {
          "base_uri": "https://localhost:8080/"
        },
        "id": "dMi8qxTW24KT",
        "outputId": "aa031ef9-037f-4149-b00d-35ec7d74da9e"
      },
      "source": [
        "rank.info()"
      ],
      "execution_count": 6,
      "outputs": [
        {
          "output_type": "stream",
          "text": [
            "<class 'pandas.core.frame.DataFrame'>\n",
            "RangeIndex: 44 entries, 0 to 43\n",
            "Data columns (total 2 columns):\n",
            " #   Column   Non-Null Count  Dtype \n",
            "---  ------   --------------  ----- \n",
            " 0   우선순위     44 non-null     int64 \n",
            " 1   의도명(유형)  44 non-null     object\n",
            "dtypes: int64(1), object(1)\n",
            "memory usage: 832.0+ bytes\n"
          ],
          "name": "stdout"
        }
      ]
    },
    {
      "cell_type": "code",
      "metadata": {
        "id": "EXl_UpS78k66"
      },
      "source": [
        "utterance = df[\"발화\"]"
      ],
      "execution_count": 7,
      "outputs": []
    },
    {
      "cell_type": "code",
      "metadata": {
        "id": "DZkW6CMUIVzu"
      },
      "source": [
        "# 한글, 영문, 숫자만 남기고 모두 제거\n",
        "def preprocessing(text):\n",
        "    text = re.sub('[^가-힣ㄱ-ㅎㅏ-ㅣa-zA-Z0-9]', ' ', text)\n",
        "    return text"
      ],
      "execution_count": 8,
      "outputs": []
    },
    {
      "cell_type": "code",
      "metadata": {
        "colab": {
          "base_uri": "https://localhost:8080/"
        },
        "id": "pSEsSS0MIX_A",
        "outputId": "03309dd3-de45-442d-e71c-31058b6246c3"
      },
      "source": [
        "for i in range(0, len(df)):\n",
        "    utterance[i] = preprocessing(utterance[i])"
      ],
      "execution_count": 9,
      "outputs": [
        {
          "output_type": "stream",
          "text": [
            "/usr/local/lib/python3.7/dist-packages/ipykernel_launcher.py:2: SettingWithCopyWarning: \n",
            "A value is trying to be set on a copy of a slice from a DataFrame\n",
            "\n",
            "See the caveats in the documentation: https://pandas.pydata.org/pandas-docs/stable/user_guide/indexing.html#returning-a-view-versus-a-copy\n",
            "  \n"
          ],
          "name": "stderr"
        }
      ]
    },
    {
      "cell_type": "code",
      "metadata": {
        "id": "_TWYtNfT_d5x",
        "colab": {
          "base_uri": "https://localhost:8080/"
        },
        "outputId": "3d36266a-31a1-4e6e-eabf-7a1280b00e0e"
      },
      "source": [
        "# 맞춤법 검사\n",
        "for i in range(len(df)): \n",
        "    try:\n",
        "        result_df = spell_checker.check(utterance[i])\n",
        "        utterance[i] = result_df.as_dict()['checked']\n",
        "    except:\n",
        "        pass"
      ],
      "execution_count": 10,
      "outputs": [
        {
          "output_type": "stream",
          "text": [
            "/usr/local/lib/python3.7/dist-packages/ipykernel_launcher.py:5: SettingWithCopyWarning: \n",
            "A value is trying to be set on a copy of a slice from a DataFrame\n",
            "\n",
            "See the caveats in the documentation: https://pandas.pydata.org/pandas-docs/stable/user_guide/indexing.html#returning-a-view-versus-a-copy\n",
            "  \"\"\"\n"
          ],
          "name": "stderr"
        }
      ]
    },
    {
      "cell_type": "code",
      "metadata": {
        "id": "HujHilQ4-vAD",
        "colab": {
          "base_uri": "https://localhost:8080/"
        },
        "outputId": "b77023ab-6c1b-425d-cfce-7cc5984e2844"
      },
      "source": [
        "# 띄어쓰기\n",
        "spacing = Spacing()\n",
        "\n",
        "for n in range(len(df)):\n",
        "    utterance[n] = spacing(utterance[n]) "
      ],
      "execution_count": 11,
      "outputs": [
        {
          "output_type": "stream",
          "text": [
            "/usr/local/lib/python3.7/dist-packages/ipykernel_launcher.py:5: SettingWithCopyWarning: \n",
            "A value is trying to be set on a copy of a slice from a DataFrame\n",
            "\n",
            "See the caveats in the documentation: https://pandas.pydata.org/pandas-docs/stable/user_guide/indexing.html#returning-a-view-versus-a-copy\n",
            "  \"\"\"\n"
          ],
          "name": "stderr"
        }
      ]
    },
    {
      "cell_type": "code",
      "metadata": {
        "colab": {
          "base_uri": "https://localhost:8080/",
          "height": 36
        },
        "id": "WysZcCS19H2-",
        "outputId": "1fe3f725-442b-4eca-ff50-71799de34a6c"
      },
      "source": [
        "utterance[999]"
      ],
      "execution_count": 12,
      "outputs": [
        {
          "output_type": "execute_result",
          "data": {
            "application/vnd.google.colaboratory.intrinsic+json": {
              "type": "string"
            },
            "text/plain": [
              "'무이자 혜택이 많아 잘 쓰고 있어요'"
            ]
          },
          "metadata": {
            "tags": []
          },
          "execution_count": 12
        }
      ]
    },
    {
      "cell_type": "code",
      "metadata": {
        "id": "Pmsk1NbXGeMM",
        "colab": {
          "base_uri": "https://localhost:8080/"
        },
        "outputId": "504c4cd9-5024-4fd8-b829-db257ff52834"
      },
      "source": [
        "# 형태소 분석\n",
        "for i, document in enumerate(utterance):\n",
        "    okt = Okt()\n",
        "    clean_words = []\n",
        "    for word in okt.pos(document, stem=True): #어간 추출\n",
        "        if word[1] in ['Noun', 'Verb', 'Adjective']: #명사, 동사, 형용사\n",
        "            clean_words.append(word[0])\n",
        "    #print(clean_words) #['상담', '빠르다', '좋다']\n",
        "    document = ' '.join(clean_words)\n",
        "   # print(document) #상담 빠르다 좋다\n",
        "    utterance[i] = document\n",
        "print(utterance)"
      ],
      "execution_count": 15,
      "outputs": [
        {
          "output_type": "stream",
          "text": [
            "/usr/local/lib/python3.7/dist-packages/ipykernel_launcher.py:11: SettingWithCopyWarning: \n",
            "A value is trying to be set on a copy of a slice from a DataFrame\n",
            "\n",
            "See the caveats in the documentation: https://pandas.pydata.org/pandas-docs/stable/user_guide/indexing.html#returning-a-view-versus-a-copy\n",
            "  # This is added back by InteractiveShellApp.init_path()\n"
          ],
          "name": "stderr"
        },
        {
          "output_type": "stream",
          "text": [
            "0                                  상담 직원 빠르다 연결하다 슴 좋다\n",
            "1                                     안 기다리다 상담 되어다 좋다\n",
            "2                                         기다리다 상담 늦어지다\n",
            "3                                      상담 직원 통화 매우 힘들다\n",
            "4                                    상담 받다 기다리다 게 불편하다\n",
            "                            ...                       \n",
            "995    카드 분실 되다 지다 카드 통해 연락 받다 바로 찾다 잃어버리다 지도 모르다 감사하다\n",
            "996               개월 무 이자 할부 링크 혜택 다른 카드 구별 되다 기능 편리하다\n",
            "997                                 무 이자 할부 자주 주다 감사하다\n",
            "998                        무 이자 혜택 만족 기 할부 만족 자다 쓰다 있다\n",
            "999                                무 이자 혜택 많다 자다 쓰다 있다\n",
            "Name: 발화, Length: 1000, dtype: object\n"
          ],
          "name": "stdout"
        }
      ]
    },
    {
      "cell_type": "code",
      "metadata": {
        "colab": {
          "base_uri": "https://localhost:8080/"
        },
        "id": "PkOWCSVNMHmq",
        "outputId": "68e805b4-8f0c-44c7-dac2-8d350a528d21"
      },
      "source": [
        "type(utterance)"
      ],
      "execution_count": 19,
      "outputs": [
        {
          "output_type": "execute_result",
          "data": {
            "text/plain": [
              "pandas.core.series.Series"
            ]
          },
          "metadata": {
            "tags": []
          },
          "execution_count": 19
        }
      ]
    }
  ]
}